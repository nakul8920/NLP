{
 "cells": [
  {
   "cell_type": "code",
   "execution_count": 3,
   "id": "2a3b1710",
   "metadata": {},
   "outputs": [],
   "source": [
    "import spacy\n",
    "\n",
    "# Load spaCy model\n",
    "nlp = spacy.load(\"en_core_web_sm\")\n",
    "\n",
    "# Load and process the text\n",
    "with open(\"peterrabbit.txt\", \"r\") as file:\n",
    "    text = file.read()\n",
    "doc = nlp(text)\n",
    "\n",
    "# Q.1: Create a Doc object from peterrabbit.txt\n",
    "# This is done above as 'doc'\n",
    "\n"
   ]
  },
  {
   "cell_type": "code",
   "execution_count": 5,
   "id": "bb2d385f",
   "metadata": {},
   "outputs": [
    {
     "name": "stdout",
     "output_type": "stream",
     "text": [
      "token: They, PRON, PRP, pronoun, personal\n",
      "token: lived, VERB, VBD, verb, past tense\n",
      "token: with, ADP, IN, conjunction, subordinating or preposition\n",
      "token: their, PRON, PRP$, pronoun, possessive\n",
      "token: Mother, NOUN, NN, noun, singular or mass\n",
      "token: in, ADP, IN, conjunction, subordinating or preposition\n",
      "token: a, DET, DT, determiner\n",
      "token: sand, NOUN, NN, noun, singular or mass\n",
      "token: -, PUNCT, HYPH, punctuation mark, hyphen\n",
      "token: bank, NOUN, NN, noun, singular or mass\n",
      "token: ,, PUNCT, ,, punctuation mark, comma\n",
      "token: underneath, ADP, IN, conjunction, subordinating or preposition\n",
      "token: the, DET, DT, determiner\n",
      "token: root, NOUN, NN, noun, singular or mass\n",
      "token: of, ADP, IN, conjunction, subordinating or preposition\n",
      "token: a, DET, DT, determiner\n",
      "token: \n",
      ", SPACE, _SP, whitespace\n",
      "token: very, ADV, RB, adverb\n",
      "token: big, ADJ, JJ, adjective (English), other noun-modifier (Chinese)\n",
      "token: fir, NOUN, NN, noun, singular or mass\n",
      "token: -, PUNCT, HYPH, punctuation mark, hyphen\n",
      "token: tree, NOUN, NN, noun, singular or mass\n",
      "token: ., PUNCT, ., punctuation mark, sentence closer\n",
      "token: \n",
      "\n",
      ", SPACE, _SP, whitespace\n"
     ]
    }
   ],
   "source": [
    "# Q 2: Token details in the third sentence\n",
    "third_sentence = list(doc.sents)[2]\n",
    "for token in third_sentence:\n",
    "    print(f\"token: {token.text}, {token.pos_}, {token.tag_}, {spacy.explain(token.tag_)}\")\n",
    "\n"
   ]
  },
  {
   "cell_type": "code",
   "execution_count": 8,
   "id": "e983230d",
   "metadata": {},
   "outputs": [
    {
     "name": "stdout",
     "output_type": "stream",
     "text": [
      "Counter({'NOUN': 172, 'PUNCT': 171, 'VERB': 135, 'ADP': 125, 'PRON': 110, 'SPACE': 99, 'DET': 90, 'PROPN': 74, 'ADV': 63, 'CCONJ': 61, 'ADJ': 53, 'AUX': 49, 'PART': 28, 'SCONJ': 19, 'NUM': 9})\n"
     ]
    }
   ],
   "source": [
    "# Q 3: Frequency list of POS tags from the entire document\n",
    "pos_counts = Counter(token.pos_ for token in doc)\n",
    "print(pos_counts)\n",
    "\n"
   ]
  },
  {
   "cell_type": "code",
   "execution_count": 10,
   "id": "9a851fd8",
   "metadata": {},
   "outputs": [
    {
     "name": "stdout",
     "output_type": "stream",
     "text": [
      "Percentage of nouns: 13.67%\n"
     ]
    }
   ],
   "source": [
    "# Q 4: Percentage of tokens that are nouns\n",
    "noun_count = sum(1 for token in doc if token.pos_ == \"NOUN\")\n",
    "noun_percentage = (noun_count / len(doc)) * 100\n",
    "print(f\"Percentage of nouns: {noun_percentage:.2f}%\")\n",
    "\n"
   ]
  },
  {
   "cell_type": "code",
   "execution_count": 11,
   "id": "be5bba3d",
   "metadata": {},
   "outputs": [
    {
     "name": "stdout",
     "output_type": "stream",
     "text": [
      "They nsubj lived\n",
      "lived ROOT lived\n",
      "with prep lived\n",
      "their poss Mother\n",
      "Mother pobj with\n",
      "in prep lived\n",
      "a det bank\n",
      "sand compound bank\n",
      "- punct bank\n",
      "bank pobj in\n",
      ", punct lived\n",
      "underneath prep lived\n",
      "the det root\n",
      "root pobj underneath\n",
      "of prep root\n",
      "a det tree\n",
      "\n",
      " dep a\n",
      "very advmod big\n",
      "big amod tree\n",
      "fir compound tree\n",
      "- punct tree\n",
      "tree pobj of\n",
      ". punct lived\n",
      "\n",
      "\n",
      " dep .\n"
     ]
    }
   ],
   "source": [
    "# Q 5: Dependency parse for the third sentence\n",
    "for token in third_sentence:\n",
    "    print(token.text, token.dep_, token.head.text)\n",
    "\n"
   ]
  },
  {
   "cell_type": "code",
   "execution_count": 12,
   "id": "ba8856d5",
   "metadata": {},
   "outputs": [
    {
     "name": "stdout",
     "output_type": "stream",
     "text": [
      "The Tale of Peter Rabbit WORK_OF_ART\n",
      "Beatrix Potter PERSON\n"
     ]
    }
   ],
   "source": [
    "# Q 6: First two named entities\n",
    "for ent in doc.ents[:2]:\n",
    "    print(ent.text, ent.label_)\n",
    "\n"
   ]
  },
  {
   "cell_type": "code",
   "execution_count": 13,
   "id": "9bb94415",
   "metadata": {},
   "outputs": [
    {
     "name": "stdout",
     "output_type": "stream",
     "text": [
      "Total sentences: 55\n"
     ]
    }
   ],
   "source": [
    "# Q 7: Total number of sentences\n",
    "total_sentences = len(list(doc.sents))\n",
    "print(f\"Total sentences: {total_sentences}\")\n"
   ]
  },
  {
   "cell_type": "code",
   "execution_count": 14,
   "id": "b0965a85",
   "metadata": {},
   "outputs": [
    {
     "name": "stdout",
     "output_type": "stream",
     "text": [
      "Sentences with named entities: 35\n"
     ]
    }
   ],
   "source": [
    "\n",
    "# Q 8: Count sentences with named entities\n",
    "sentences_with_ents = sum(1 for sent in doc.sents if any(token.ent_type_ for token in sent))\n",
    "print(f\"Sentences with named entities: {sentences_with_ents}\")\n",
    "\n"
   ]
  },
  {
   "cell_type": "code",
   "execution_count": 15,
   "id": "9c9b4007",
   "metadata": {},
   "outputs": [
    {
     "data": {
      "text/html": [
       "<span class=\"tex2jax_ignore\"><div class=\"entities\" style=\"line-height: 2.5; direction: ltr\">\n",
       "<mark class=\"entity\" style=\"background: #f0d0ff; padding: 0.45em 0.6em; margin: 0 0.25em; line-height: 1; border-radius: 0.35em;\">\n",
       "    The Tale of Peter Rabbit\n",
       "    <span style=\"font-size: 0.8em; font-weight: bold; line-height: 1; border-radius: 0.35em; vertical-align: middle; margin-left: 0.5rem\">WORK_OF_ART</span>\n",
       "</mark>\n",
       ", by \n",
       "<mark class=\"entity\" style=\"background: #aa9cfc; padding: 0.45em 0.6em; margin: 0 0.25em; line-height: 1; border-radius: 0.35em;\">\n",
       "    Beatrix Potter\n",
       "    <span style=\"font-size: 0.8em; font-weight: bold; line-height: 1; border-radius: 0.35em; vertical-align: middle; margin-left: 0.5rem\">PERSON</span>\n",
       "</mark>\n",
       " (\n",
       "<mark class=\"entity\" style=\"background: #bfe1d9; padding: 0.45em 0.6em; margin: 0 0.25em; line-height: 1; border-radius: 0.35em;\">\n",
       "    1902\n",
       "    <span style=\"font-size: 0.8em; font-weight: bold; line-height: 1; border-radius: 0.35em; vertical-align: middle; margin-left: 0.5rem\">DATE</span>\n",
       "</mark>\n",
       ").<br><br></div></span>"
      ],
      "text/plain": [
       "<IPython.core.display.HTML object>"
      ]
     },
     "metadata": {},
     "output_type": "display_data"
    }
   ],
   "source": [
    "# Q 9: Named entity visualization for the first sentence\n",
    "from spacy import displacy\n",
    "displacy.render(list(doc.sents)[0], style=\"ent\")\n"
   ]
  },
  {
   "cell_type": "code",
   "execution_count": null,
   "id": "7f89e167",
   "metadata": {},
   "outputs": [],
   "source": []
  }
 ],
 "metadata": {
  "kernelspec": {
   "display_name": "Python 3 (ipykernel)",
   "language": "python",
   "name": "python3"
  },
  "language_info": {
   "codemirror_mode": {
    "name": "ipython",
    "version": 3
   },
   "file_extension": ".py",
   "mimetype": "text/x-python",
   "name": "python",
   "nbconvert_exporter": "python",
   "pygments_lexer": "ipython3",
   "version": "3.11.4"
  }
 },
 "nbformat": 4,
 "nbformat_minor": 5
}
